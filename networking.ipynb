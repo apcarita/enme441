{
 "cells": [
  {
   "cell_type": "markdown",
   "id": "a4264a29",
   "metadata": {},
   "source": [
    "## Python Networking    \n",
    "socket, http.server, requests"
   ]
  },
  {
   "cell_type": "code",
   "execution_count": null,
   "id": "e72c9630",
   "metadata": {},
   "outputs": [],
   "source": [
    "# socket, awesome low level networking interface\n",
    "# client & server communication\n",
    "\n",
    "# http.server is a server module built on top of socket\n",
    "# requests is a client module built on top of socket only for client"
   ]
  }
 ],
 "metadata": {
  "language_info": {
   "name": "python"
  }
 },
 "nbformat": 4,
 "nbformat_minor": 5
}
