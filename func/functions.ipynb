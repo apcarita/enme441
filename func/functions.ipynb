{
 "cells": [
  {
   "cell_type": "markdown",
   "id": "4ca3365d",
   "metadata": {},
   "source": [
    "## Problem 1"
   ]
  },
  {
   "cell_type": "code",
   "execution_count": 35,
   "id": "e9814f8b",
   "metadata": {},
   "outputs": [
    {
     "name": "stdout",
     "output_type": "stream",
     "text": [
      "\n",
      "is 6 between 10 and 20? False\n",
      "\n",
      "is 6 between 0 and 10? True\n",
      "\n",
      "is 0.1 between 0 and 0.3? True\n",
      "\n"
     ]
    }
   ],
   "source": [
    "def between(value, low=0, high=0.3):\n",
    "    return value >= low and value <= high\n",
    "\n",
    "print(f\"\\nis 6 between 10 and 20? {between(6, 10, 20)}\\n\")\n",
    "print(f\"is 6 between 0 and 10? {between(6,0,10)}\\n\")\n",
    "\n",
    "print(f\"is 0.1 between 0 and 0.3? {between(0.1)}\\n\")"
   ]
  },
  {
   "cell_type": "markdown",
   "id": "20d8dd53",
   "metadata": {},
   "source": [
    "## Problem 2"
   ]
  },
  {
   "cell_type": "code",
   "execution_count": 36,
   "id": "d673144e",
   "metadata": {},
   "outputs": [
    {
     "name": "stdout",
     "output_type": "stream",
     "text": [
      "\n",
      "result:\n",
      "\n",
      "0 0.5 1.0 1.5 2.0 2.5 3.0 3.5 4.0 4.5 5.0 "
     ]
    }
   ],
   "source": [
    "def rangef(max,step):\n",
    "    i = 0\n",
    "    arr = []\n",
    "    while i <= max:\n",
    "        arr.append(i)\n",
    "        i += step\n",
    "    return arr\n",
    "print(\"\\nresult:\\n\")\n",
    "for i in rangef(5,0.5): print(i, end=' ')"
   ]
  },
  {
   "cell_type": "markdown",
   "id": "fafd4a19",
   "metadata": {},
   "source": [
    "## Problem 3"
   ]
  },
  {
   "cell_type": "code",
   "execution_count": 37,
   "id": "58c27cea",
   "metadata": {},
   "outputs": [
    {
     "name": "stdout",
     "output_type": "stream",
     "text": [
      "\n",
      "alist: [0, 0.25, 0.5, 0.75, 1.0]\n",
      "\n",
      "alist: [0, 0.25, 0.5, 0.75, 1.0, 1.0, 0.75, 0.5, 0.25, 0]\n",
      "\n",
      "alist:  [0.5, 0.75, 1.0, 1.0, 0.75, 0.5, 0, 0.25, 0.25, 0]\n"
     ]
    }
   ],
   "source": [
    "alist = rangef(1,0.25)\n",
    "print(\"\\nalist:\", alist)\n",
    "\n",
    "alist = alist + alist[::-1] \n",
    "\n",
    "print(\"\\nalist:\", alist)\n",
    "\n",
    "alist.sort(key=between)\n",
    "\n",
    "print(\"\\nalist: \", alist)\n",
    "\n"
   ]
  },
  {
   "cell_type": "markdown",
   "id": "177f2bd6",
   "metadata": {},
   "source": [
    "## Problem 4"
   ]
  },
  {
   "cell_type": "code",
   "execution_count": 38,
   "id": "300af662",
   "metadata": {},
   "outputs": [
    {
     "name": "stdout",
     "output_type": "stream",
     "text": [
      "\n",
      "mylist: [0, 2, 3, 4, 6, 8, 9, 10, 12, 14, 15]\n"
     ]
    }
   ],
   "source": [
    "mylist = [x for x in range(0,16) if x%2 == 0 or x%3 == 0]\n",
    "print(\"\\nmylist:\", mylist)"
   ]
  }
 ],
 "metadata": {
  "kernelspec": {
   "display_name": "venv",
   "language": "python",
   "name": "python3"
  },
  "language_info": {
   "codemirror_mode": {
    "name": "ipython",
    "version": 3
   },
   "file_extension": ".py",
   "mimetype": "text/x-python",
   "name": "python",
   "nbconvert_exporter": "python",
   "pygments_lexer": "ipython3",
   "version": "3.12.5"
  }
 },
 "nbformat": 4,
 "nbformat_minor": 5
}
